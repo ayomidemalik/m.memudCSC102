{
 "cells": [
  {
   "cell_type": "code",
   "execution_count": null,
   "metadata": {},
   "outputs": [],
   "source": [
    "class TOT():\n",
    "    package_price = input(\"Enter the package's price:\")\n",
    "    package_weight = input(\"Enter the package's weight\")\n",
    "    \n",
    "    def __init__(self, w1, w2, p1, p2, p3, p4)\n",
    "    self.p1 = 2000\n",
    "    self.p2 = 1500\n",
    "    self.p3 = 78\n",
    "    self.p4 = 54678\n",
    "    "
   ]
  }
 ],
 "metadata": {
  "kernelspec": {
   "display_name": "Python 3",
   "language": "python",
   "name": "python3"
  },
  "language_info": {
   "codemirror_mode": {
    "name": "ipython",
    "version": 3
   },
   "file_extension": ".py",
   "mimetype": "text/x-python",
   "name": "python",
   "nbconvert_exporter": "python",
   "pygments_lexer": "ipython3",
   "version": "3.8.3"
  }
 },
 "nbformat": 4,
 "nbformat_minor": 4
}
