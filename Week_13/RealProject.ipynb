{
 "cells": [
  {
   "cell_type": "code",
   "execution_count": 1,
   "metadata": {},
   "outputs": [
    {
     "name": "stdout",
     "output_type": "stream",
     "text": [
      "Welcome to Pan Atlantic University's Student Management Information System Program. What number of students would you like this code to run for please?: 5\n",
      "Please kindly enter your name: Oluchi Mordi\n",
      "Please kindly enter your matric number: ACC10211111\n",
      "Please kindly enter your department name: Accounting\n",
      "Please kindly enter the level you are in: 300\n",
      "Please kindly enter your name: Adams Aliyu\n",
      "Please kindly enter your matric number: ECO10110101\n",
      "Please kindly enter your department name: Economics\n",
      "Please kindly enter the level you are in: 100\n",
      "Please kindly enter your name: Shania\n",
      "Please kindly enter your matric number: CSC10328828\n",
      "Please kindly enter your department name: Computer\n",
      "Please kindly enter the level you are in: 200\n",
      "Please kindly enter your name: Adekunle Gold\n",
      "Please kindly enter your matric number: EEE11020202\n",
      "Please kindly enter your department name: Electrical\n",
      "Please kindly enter the level you are in: 200\n",
      "Please kindly enter your name: Blanca\n",
      "Please kindly enter your matric number: MEE10202001\n",
      "Please kindly enter your department name: Mechanical\n",
      "Please kindly enter the level you are in: 100\n",
      "    Student Name Matric. Number  Department Level\n",
      "0   Oluchi Mordi    ACC10211111  Accounting   300\n",
      "1    Adams Aliyu    ECO10110101   Economics   100\n",
      "2         Shania    CSC10328828    Computer   200\n",
      "3  Adekunle Gold    EEE11020202  Electrical   200\n",
      "4         Blanca    MEE10202001  Mechanical   100\n"
     ]
    }
   ],
   "source": [
    "import pandas as pd\n",
    "\n",
    "File = []\n",
    "valuedetermined = int(input(\"Welcome to Pan Atlantic University's Student Management Information System Program. What number of students would you like this code to run for please?: \"))\n",
    "for t in range(valuedetermined):\n",
    "    PAUSMIS = {}\n",
    "    PAUSMIS['Student Name'] = input(\"Please kindly enter your name: \")\n",
    "    PAUSMIS['Matric. Number'] = input(\"Please kindly enter your matric number: \")\n",
    "    PAUSMIS['Department'] = input(\"Please kindly enter your department name: \")\n",
    "    PAUSMIS['Level'] = input(\"Please kindly enter the level you are in: \")\n",
    "    \n",
    "    File.append(PAUSMIS)\n",
    "\n",
    "code = pd.DataFrame(File)\n",
    "print(code)\n",
    "\n",
    "\n",
    "code.to_csv('PAU-SMIS.csv')"
   ]
  },
  {
   "cell_type": "code",
   "execution_count": 2,
   "metadata": {},
   "outputs": [
    {
     "name": "stdout",
     "output_type": "stream",
     "text": [
      "    Company  Year Founded   Assets  Liabilities  Percentage Leverage - %\n",
      "0     Enron          1987  1000000       200000                     80.0\n",
      "1  Anderson          1936  1500000       500000                     66.6\n",
      "2  GK Jones          2001  3000000      1500000                     50.0\n",
      "3      Mica          1996   250000        50000                     80.0\n",
      "4      Dune          2008   800000       300000                     62.5\n"
     ]
    }
   ],
   "source": [
    "import pandas as pd\n",
    "\n",
    "class Program():\n",
    "    def program(self):\n",
    "        Statistics = {\"Company\":[\"Enron\",\"Anderson\",\"GK Jones\",\"Mica\",\"Dune\"], \"Year Founded\":[1987,1936,2001,1996,2008],\n",
    "                     \"Assets\":[1000000,1500000,3000000,250000,800000],\"Liabilities\":[200000,500000,1500000,50000,300000],\"Percentage Leverage - %\":[80,66.6,50,80,62.5]}\n",
    "        code = pd.DataFrame(Statistics)\n",
    "        print(code)\n",
    "        code.to_csv(\"Statistics.csv\")\n",
    "    \n",
    "thisiscode = Program()\n",
    "thisiscode.program()\n",
    "        \n",
    "        "
   ]
  },
  {
   "cell_type": "code",
   "execution_count": null,
   "metadata": {},
   "outputs": [],
   "source": []
  }
 ],
 "metadata": {
  "kernelspec": {
   "display_name": "Python 3",
   "language": "python",
   "name": "python3"
  },
  "language_info": {
   "codemirror_mode": {
    "name": "ipython",
    "version": 3
   },
   "file_extension": ".py",
   "mimetype": "text/x-python",
   "name": "python",
   "nbconvert_exporter": "python",
   "pygments_lexer": "ipython3",
   "version": "3.8.3"
  }
 },
 "nbformat": 4,
 "nbformat_minor": 5
}
