{
 "cells": [
  {
   "cell_type": "code",
   "execution_count": 18,
   "metadata": {},
   "outputs": [
    {
     "name": "stdout",
     "output_type": "stream",
     "text": [
      "Enter the amount of oranges you want to buy: 78\n",
      "We don't have that much quantity in stock currently. Select a lower number!\n",
      "Enter the amount of oranges you want to buy: 23\n",
      "Your cost is 1150 \n"
     ]
    }
   ],
   "source": [
    "#A computer program to allow customers to buy oranges online\n",
    "\n",
    "class buyoranges:\n",
    "    stock = 50\n",
    "    price = 50\n",
    "    def hello(self):\n",
    "        money = int(input(\"Enter the amount of oranges you want to buy: \"))\n",
    "        if money < stock:\n",
    "            a = money * price\n",
    "            print(f\"Your cost is {a} \")\n",
    "        else:\n",
    "            print(\"We don't have that much quantity in stock currently. Select a lower number!\")\n",
    "            money1 = int(input(\"Enter the amount of oranges you want to buy: \"))\n",
    "            if money1 < stock:\n",
    "                b = money1 * price\n",
    "                print(f\"Your cost is {b} \")\n",
    "            else:\n",
    "                print(\"Oops. Try again later!\")\n",
    "money = buyoranges()\n",
    "money.hello()"
   ]
  },
  {
   "cell_type": "code",
   "execution_count": 23,
   "metadata": {},
   "outputs": [
    {
     "name": "stderr",
     "output_type": "stream",
     "text": [
      "<>:21: SyntaxWarning: 'int' object is not callable; perhaps you missed a comma?\n",
      "<>:21: SyntaxWarning: 'int' object is not callable; perhaps you missed a comma?\n",
      "<ipython-input-23-ddd902355fc6>:21: SyntaxWarning: 'int' object is not callable; perhaps you missed a comma?\n",
      "  formula4 = 6(h**2)\n"
     ]
    },
    {
     "name": "stdout",
     "output_type": "stream",
     "text": [
      "Enter the value of your first horizontal length in cm: 32\n",
      "Enter the value of your second horizontal length in cm: 3\n",
      "Enter the value of your height in cm: 3\n",
      "The value of the area of the trapezium is 52.5cm^2\n",
      "Enter the value of your first diagonal in cm: 3\n",
      "Enter the value of your second diagonal in cm: \n"
     ]
    },
    {
     "ename": "ValueError",
     "evalue": "invalid literal for int() with base 10: ''",
     "output_type": "error",
     "traceback": [
      "\u001b[1;31m---------------------------------------------------------------------------\u001b[0m",
      "\u001b[1;31mValueError\u001b[0m                                Traceback (most recent call last)",
      "\u001b[1;32m<ipython-input-23-ddd902355fc6>\u001b[0m in \u001b[0;36m<module>\u001b[1;34m\u001b[0m\n\u001b[0;32m     28\u001b[0m \u001b[0mbeans\u001b[0m \u001b[1;33m=\u001b[0m \u001b[0mmathematics\u001b[0m\u001b[1;33m(\u001b[0m\u001b[1;33m)\u001b[0m\u001b[1;33m\u001b[0m\u001b[1;33m\u001b[0m\u001b[0m\n\u001b[0;32m     29\u001b[0m \u001b[0mbeans\u001b[0m\u001b[1;33m.\u001b[0m\u001b[0mtrapezium\u001b[0m\u001b[1;33m(\u001b[0m\u001b[1;33m)\u001b[0m\u001b[1;33m\u001b[0m\u001b[1;33m\u001b[0m\u001b[0m\n\u001b[1;32m---> 30\u001b[1;33m \u001b[0mbeans\u001b[0m\u001b[1;33m.\u001b[0m\u001b[0mrhombus\u001b[0m\u001b[1;33m(\u001b[0m\u001b[1;33m)\u001b[0m\u001b[1;33m\u001b[0m\u001b[1;33m\u001b[0m\u001b[0m\n\u001b[0m\u001b[0;32m     31\u001b[0m \u001b[0mbeans\u001b[0m\u001b[1;33m.\u001b[0m\u001b[0mparallelogram\u001b[0m\u001b[1;33m(\u001b[0m\u001b[1;33m)\u001b[0m\u001b[1;33m\u001b[0m\u001b[1;33m\u001b[0m\u001b[0m\n\u001b[0;32m     32\u001b[0m \u001b[0mbeans\u001b[0m\u001b[1;33m.\u001b[0m\u001b[0mcube\u001b[0m\u001b[1;33m(\u001b[0m\u001b[1;33m)\u001b[0m\u001b[1;33m\u001b[0m\u001b[1;33m\u001b[0m\u001b[0m\n",
      "\u001b[1;32m<ipython-input-23-ddd902355fc6>\u001b[0m in \u001b[0;36mrhombus\u001b[1;34m(self)\u001b[0m\n\u001b[0;32m      9\u001b[0m     \u001b[1;32mdef\u001b[0m \u001b[0mrhombus\u001b[0m\u001b[1;33m(\u001b[0m\u001b[0mself\u001b[0m\u001b[1;33m)\u001b[0m\u001b[1;33m:\u001b[0m\u001b[1;33m\u001b[0m\u001b[1;33m\u001b[0m\u001b[0m\n\u001b[0;32m     10\u001b[0m         \u001b[0md\u001b[0m \u001b[1;33m=\u001b[0m \u001b[0mint\u001b[0m\u001b[1;33m(\u001b[0m\u001b[0minput\u001b[0m\u001b[1;33m(\u001b[0m\u001b[1;34m\"Enter the value of your first diagonal in cm: \"\u001b[0m\u001b[1;33m)\u001b[0m\u001b[1;33m)\u001b[0m\u001b[1;33m\u001b[0m\u001b[1;33m\u001b[0m\u001b[0m\n\u001b[1;32m---> 11\u001b[1;33m         \u001b[0me\u001b[0m \u001b[1;33m=\u001b[0m \u001b[0mint\u001b[0m\u001b[1;33m(\u001b[0m\u001b[0minput\u001b[0m\u001b[1;33m(\u001b[0m\u001b[1;34m\"Enter the value of your second diagonal in cm: \"\u001b[0m\u001b[1;33m)\u001b[0m\u001b[1;33m)\u001b[0m\u001b[1;33m\u001b[0m\u001b[1;33m\u001b[0m\u001b[0m\n\u001b[0m\u001b[0;32m     12\u001b[0m         \u001b[0mformula2\u001b[0m \u001b[1;33m=\u001b[0m \u001b[1;33m(\u001b[0m\u001b[1;36m1\u001b[0m\u001b[1;33m/\u001b[0m\u001b[1;36m2\u001b[0m\u001b[1;33m)\u001b[0m\u001b[1;33m*\u001b[0m\u001b[1;33m(\u001b[0m\u001b[0md\u001b[0m\u001b[1;33m*\u001b[0m\u001b[0me\u001b[0m\u001b[1;33m)\u001b[0m\u001b[1;33m\u001b[0m\u001b[1;33m\u001b[0m\u001b[0m\n\u001b[0;32m     13\u001b[0m         \u001b[0mprint\u001b[0m\u001b[1;33m(\u001b[0m\u001b[1;34mf\"The value of the area of the rhombus is {formula2}cm^2\"\u001b[0m\u001b[1;33m)\u001b[0m\u001b[1;33m\u001b[0m\u001b[1;33m\u001b[0m\u001b[0m\n",
      "\u001b[1;31mValueError\u001b[0m: invalid literal for int() with base 10: ''"
     ]
    }
   ],
   "source": [
    "#A python program to solve for the area of a trapezium, the area of a rhombus, the area of a parallelogram, the area of a cube and the volume of a cylinder.\n",
    "class mathematics:\n",
    "    def trapezium(self):\n",
    "        a = int(input(\"Enter the value of your first horizontal length in cm: \"))\n",
    "        b = int(input(\"Enter the value of your second horizontal length in cm: \"))\n",
    "        c = int(input(\"Enter the value of your height in cm: \"))\n",
    "        formula1 = (1/2)*(a+b)*c\n",
    "        print(f\"The value of the area of the trapezium is {formula1}cm^2\")\n",
    "    def rhombus(self):\n",
    "        d = int(input(\"Enter the value of your first diagonal in cm: \"))\n",
    "        e = int(input(\"Enter the value of your second diagonal in cm: \"))\n",
    "        formula2 = (1/2)*(d*e)\n",
    "        print(f\"The value of the area of the rhombus is {formula2}cm^2\")\n",
    "    def parallelogram(self):\n",
    "        f = int(input(\"Enter the value of your base in cm: \"))\n",
    "        g = int(input(\"Enter the value of your height in cm: \"))\n",
    "        formula3 = f*g\n",
    "        print(f\"The value of the area of the parallelogram is {formula3}cm^2\")\n",
    "    def cube(self):\n",
    "        h = int(input(\"Enter the value of the length of one side of the cube in cm: \"))\n",
    "        formula4 = 6(h**2)\n",
    "        print(f\"The value of the area of the cube is {formula4}cm^2\")\n",
    "    def cylinder(self):\n",
    "        i = int(input(\"Enter the value of the radius of the cylinder in cm: \"))\n",
    "        j = int(input(\"Enter the value of the height of the cylinder in cm: \"))\n",
    "        formula5 = (22/7)*(i*i*j)\n",
    "        print(f\"The value of the volume of the cylinder is {formula5}cm^2\")\n",
    "beans = mathematics()\n",
    "beans.trapezium()\n",
    "beans.rhombus()\n",
    "beans.parallelogram()\n",
    "beans.cube()\n",
    "beans.cylinder()"
   ]
  },
  {
   "cell_type": "markdown",
   "metadata": {},
   "source": [
    "###### "
   ]
  }
 ],
 "metadata": {
  "kernelspec": {
   "display_name": "Python 3",
   "language": "python",
   "name": "python3"
  },
  "language_info": {
   "codemirror_mode": {
    "name": "ipython",
    "version": 3
   },
   "file_extension": ".py",
   "mimetype": "text/x-python",
   "name": "python",
   "nbconvert_exporter": "python",
   "pygments_lexer": "ipython3",
   "version": "3.8.3"
  }
 },
 "nbformat": 4,
 "nbformat_minor": 4
}
