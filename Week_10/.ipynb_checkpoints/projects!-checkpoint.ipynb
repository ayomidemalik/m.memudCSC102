{
 "cells": [
  {
   "cell_type": "code",
   "execution_count": 18,
   "metadata": {},
   "outputs": [
    {
     "name": "stdout",
     "output_type": "stream",
     "text": [
      "Enter the amount of oranges you want to buy: 78\n",
      "We don't have that much quantity in stock currently. Select a lower number!\n",
      "Enter the amount of oranges you want to buy: 23\n",
      "Your cost is 1150 \n"
     ]
    }
   ],
   "source": [
    "#A computer program to allow customers to buy oranges online\n",
    "\n",
    "class buyoranges:\n",
    "    stock = 50\n",
    "    price = 50\n",
    "    def hello(self):\n",
    "        money = int(input(\"Enter the amount of oranges you want to buy: \"))\n",
    "        if money < stock:\n",
    "            a = money * price\n",
    "            print(f\"Your cost is {a} \")\n",
    "        else:\n",
    "            print(\"We don't have that much quantity in stock currently. Select a lower number!\")\n",
    "            money1 = int(input(\"Enter the amount of oranges you want to buy: \"))\n",
    "            if money1 < stock:\n",
    "                b = money1 * price\n",
    "                print(f\"Your cost is {b} \")\n",
    "            else:\n",
    "                print(\"Oops. Try again later!\")\n",
    "money = buyoranges()\n",
    "money.hello()"
   ]
  },
  {
   "cell_type": "code",
   "execution_count": null,
   "metadata": {},
   "outputs": [],
   "source": [
    "#A python program to solve for the area of a trapezium, the area of a rhombus, the area of a parallelogram, the area of a cube and the bolume of a cylinder.\n",
    "class mathematics"
   ]
  }
 ],
 "metadata": {
  "kernelspec": {
   "display_name": "Python 3",
   "language": "python",
   "name": "python3"
  },
  "language_info": {
   "codemirror_mode": {
    "name": "ipython",
    "version": 3
   },
   "file_extension": ".py",
   "mimetype": "text/x-python",
   "name": "python",
   "nbconvert_exporter": "python",
   "pygments_lexer": "ipython3",
   "version": "3.8.3"
  }
 },
 "nbformat": 4,
 "nbformat_minor": 4
}
