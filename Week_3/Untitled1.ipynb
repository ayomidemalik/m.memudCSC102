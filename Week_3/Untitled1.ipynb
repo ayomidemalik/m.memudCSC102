{
 "cells": [
  {
   "cell_type": "code",
   "execution_count": 1,
   "id": "21d1fa72",
   "metadata": {},
   "outputs": [
    {
     "name": "stdout",
     "output_type": "stream",
     "text": [
      "This is a code which gives the roots of a stated Cubic equation\n",
      "The format of the Cubic equation is as follows: Ax3 + Bx2 + Cx + D = 0\n",
      "Enter the value for the co-efficient of x3: 5\n",
      "Enter the value for the co-efficient of x2: 7\n",
      "Enter the value for the co-efficient of x: 9\n",
      "Enter the value for the constant in the equation: 044\n"
     ]
    }
   ],
   "source": [
    "#Code to find the root of a Cubic equation\n",
    "print(\"This is a code which gives the roots of a stated Cubic equation\")\n",
    "print(\"The format of the Cubic equation is as follows: Ax3 + Bx2 + Cx + D = 0\")\n",
    "\n",
    "A = int(input(\"Enter the value for the co-efficient of x3: \"))\n",
    "B = int(input(\"Enter the value for the co-efficient of x2: \"))\n",
    "C = int(input(\"Enter the value for the co-efficient of x: \"))\n",
    "D = int(input(\"Enter the value for the constant in the equation: \"))\n"
   ]
  },
  {
   "cell_type": "code",
   "execution_count": null,
   "id": "84f2b53e",
   "metadata": {},
   "outputs": [],
   "source": []
  }
 ],
 "metadata": {
  "kernelspec": {
   "display_name": "Python 3 (ipykernel)",
   "language": "python",
   "name": "python3"
  },
  "language_info": {
   "codemirror_mode": {
    "name": "ipython",
    "version": 3
   },
   "file_extension": ".py",
   "mimetype": "text/x-python",
   "name": "python",
   "nbconvert_exporter": "python",
   "pygments_lexer": "ipython3",
   "version": "3.10.9"
  }
 },
 "nbformat": 4,
 "nbformat_minor": 5
}
