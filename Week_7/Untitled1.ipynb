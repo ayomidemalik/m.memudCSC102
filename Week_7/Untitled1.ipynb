{
 "cells": [
  {
   "cell_type": "code",
   "execution_count": null,
   "metadata": {},
   "outputs": [],
   "source": [
    "import pandas as pd\n",
    " \n",
    "df = pd.read_csv(\"jt-ventures.csv\")\n",
    "print (df)\n",
    "\n",
    "def verification( str ):\n",
    "    print (str);\n",
    "    return;"
   ]
  },
  {
   "cell_type": "code",
   "execution_count": null,
   "metadata": {},
   "outputs": [],
   "source": [
    "import pandas as pd\n",
    " \n",
    "# making data frame from csv file\n",
    "#data = pd.read_csv(\"jt-ventures.csv\")\n",
    "df = pd.read_csv(\"jt-ventures.csv\")\n",
    "\n",
    "for i in df:\n",
    "    \n",
    "    name=  input(\"Enter name\")\n",
    "\n",
    "    if (name == df[i][0]):\n",
    "           print(\"You are an Employee \")\n",
    "    else: \n",
    "        print(\" You are not an employee\")\n",
    "    \n",
    "\n",
    "def verification( str ):\n",
    "    #This is a print function\n",
    "    print (str);\n",
    "    return;"
   ]
  },
  {
   "cell_type": "code",
   "execution_count": null,
   "metadata": {},
   "outputs": [],
   "source": []
  }
 ],
 "metadata": {
  "kernelspec": {
   "display_name": "Python 3",
   "language": "python",
   "name": "python3"
  },
  "language_info": {
   "codemirror_mode": {
    "name": "ipython",
    "version": 3
   },
   "file_extension": ".py",
   "mimetype": "text/x-python",
   "name": "python",
   "nbconvert_exporter": "python",
   "pygments_lexer": "ipython3",
   "version": "3.8.3"
  }
 },
 "nbformat": 4,
 "nbformat_minor": 4
}
