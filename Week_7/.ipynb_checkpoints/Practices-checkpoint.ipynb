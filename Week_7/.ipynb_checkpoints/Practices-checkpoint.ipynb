{
 "cells": [
  {
   "cell_type": "code",
   "execution_count": 1,
   "metadata": {},
   "outputs": [
    {
     "name": "stdout",
     "output_type": "stream",
     "text": [
      "I'm first call t user defined function!\n",
      "Again second call to the same function\n"
     ]
    }
   ],
   "source": [
    "def printme( str ):\n",
    "    #This is a print function\n",
    "    print (str);\n",
    "    return;\n",
    "\n",
    "printme(\"I'm first call t user defined function!\");\n",
    "printme(\"Again second call to the same function\");"
   ]
  },
  {
   "cell_type": "code",
   "execution_count": 2,
   "metadata": {},
   "outputs": [
    {
     "name": "stdout",
     "output_type": "stream",
     "text": [
      "Values inside the funtion:  [10, 20, 30, [1, 2, 3, 4]]\n",
      "Values outside the funtion [10, 20, 30, [1, 2, 3, 4]]\n"
     ]
    }
   ],
   "source": [
    "def changeme( mylist ):\n",
    "    #This changes a passed list\n",
    "    mylist.append([1,2,3,4])\n",
    "    print (\"Values inside the funtion: \", mylist)\n",
    "    return\n",
    "mylist = [10,20,30]\n",
    "changeme( mylist )\n",
    "print (\"Values outside the funtion\", mylist)"
   ]
  },
  {
   "cell_type": "code",
   "execution_count": 3,
   "metadata": {},
   "outputs": [
    {
     "name": "stdout",
     "output_type": "stream",
     "text": [
      "Values inside the funtion:  [1, 2, 3, 4]\n",
      "Values outside the funtion [10, 20, 30]\n"
     ]
    }
   ],
   "source": [
    "def changeme( mylist ):\n",
    "    #This changes a passed list\n",
    "    mylist = [1,2,3,4]\n",
    "    print (\"Values inside the funtion: \", mylist)\n",
    "    return\n",
    "mylist = [10,20,30]\n",
    "changeme( mylist )\n",
    "print (\"Values outside the funtion\", mylist)"
   ]
  },
  {
   "cell_type": "code",
   "execution_count": 4,
   "metadata": {},
   "outputs": [
    {
     "name": "stdout",
     "output_type": "stream",
     "text": [
      "<class 'str'>\n"
     ]
    }
   ],
   "source": [
    "def printme( str ):\n",
    "    #This prints a passed string\n",
    "    print (str);\n",
    "    return;\n",
    "printme(str);"
   ]
  },
  {
   "cell_type": "code",
   "execution_count": 5,
   "metadata": {},
   "outputs": [
    {
     "name": "stdout",
     "output_type": "stream",
     "text": [
      "My String\n"
     ]
    }
   ],
   "source": [
    "def printme( str ):\n",
    "    #This prints a passed string\n",
    "    print (str);\n",
    "    return;\n",
    "printme(str = \"My String\");"
   ]
  },
  {
   "cell_type": "code",
   "execution_count": 6,
   "metadata": {},
   "outputs": [
    {
     "name": "stdout",
     "output_type": "stream",
     "text": [
      "Name:  miki\n",
      "Age:  50\n"
     ]
    }
   ],
   "source": [
    "def printinfo( name, age ):\n",
    "    #Test function\n",
    "    print (\"Name: \", name);\n",
    "    print (\"Age: \", age);\n",
    "    return;\n",
    "printinfo( age=50, name=\"miki\")"
   ]
  },
  {
   "cell_type": "code",
   "execution_count": 7,
   "metadata": {},
   "outputs": [
    {
     "name": "stdout",
     "output_type": "stream",
     "text": [
      "Name:  miki\n",
      "Age:  50\n",
      "Name:  miki\n",
      "Age:  35\n"
     ]
    }
   ],
   "source": [
    "def printinfo( name, age = 35 ):\n",
    "    #Test function\n",
    "    print (\"Name: \", name);\n",
    "    print (\"Age: \", age);\n",
    "    return;\n",
    "printinfo( age=50, name=\"miki\")\n",
    "printinfo( name=\"miki\");"
   ]
  },
  {
   "cell_type": "code",
   "execution_count": 8,
   "metadata": {},
   "outputs": [
    {
     "name": "stdout",
     "output_type": "stream",
     "text": [
      "Output is: \n",
      "10\n",
      "Output is: \n",
      "70\n",
      "60\n"
     ]
    }
   ],
   "source": [
    "def printinfo( arg1, *vartuple ):\n",
    "    #This is test\n",
    "    print (\"Output is: \")\n",
    "    print (arg1)\n",
    "    for var in vartuple:\n",
    "        print(var)\n",
    "        return;\n",
    "printinfo( 10 );\n",
    "printinfo( 70, 60, 50 );"
   ]
  },
  {
   "cell_type": "code",
   "execution_count": 9,
   "metadata": {},
   "outputs": [
    {
     "name": "stdout",
     "output_type": "stream",
     "text": [
      "Inside the funtion local total : 30\n",
      "Outside the function global total : 50\n"
     ]
    }
   ],
   "source": [
    "total = 50; # This is global variable.\n",
    "def sum( arg1, arg2):\n",
    "    # Add both the parameters\n",
    "    total = arg1 + arg2;\n",
    "    print (\"Inside the funtion local total :\", total)\n",
    "    return total;\n",
    "#Now you can call sum function\n",
    "sum( 10, 20);\n",
    "print (\"Outside the function global total :\", total)"
   ]
  },
  {
   "cell_type": "code",
   "execution_count": 10,
   "metadata": {},
   "outputs": [
    {
     "name": "stdout",
     "output_type": "stream",
     "text": [
      "Lawal Edward Tolu Tina\n",
      "Mary\n"
     ]
    }
   ],
   "source": [
    "def swap(x, y):\n",
    "    global a\n",
    "    a = \"Lawal\"\n",
    "    x,y = y,x\n",
    "    b = \"Chris\"\n",
    "    b = \"Edward\"\n",
    "    c = \"Lola\"\n",
    "    print(a,b,x,y)\n",
    "    a = \"Mary\"\n",
    "swap(\"Tina\", \"Tolu\")\n",
    "print (a)"
   ]
  },
  {
   "cell_type": "code",
   "execution_count": null,
   "metadata": {},
   "outputs": [],
   "source": []
  }
 ],
 "metadata": {
  "kernelspec": {
   "display_name": "Python 3",
   "language": "python",
   "name": "python3"
  },
  "language_info": {
   "codemirror_mode": {
    "name": "ipython",
    "version": 3
   },
   "file_extension": ".py",
   "mimetype": "text/x-python",
   "name": "python",
   "nbconvert_exporter": "python",
   "pygments_lexer": "ipython3",
   "version": "3.8.3"
  }
 },
 "nbformat": 4,
 "nbformat_minor": 4
}
