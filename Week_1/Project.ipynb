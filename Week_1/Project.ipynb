{
 "cells": [
  {
   "cell_type": "code",
   "execution_count": 1,
   "id": "6a830f36",
   "metadata": {},
   "outputs": [
    {
     "name": "stdout",
     "output_type": "stream",
     "text": [
      "Enter the principal: 2000\n",
      "Enter the number of years: 123\n",
      "Enter the rate of interest: 123\n",
      "The Amount generated after simple interest added is: 304580.0\n"
     ]
    }
   ],
   "source": [
    "# Simple Interest\n",
    "# Enter the amount being set aside \n",
    "A = int(input(\"Enter the principal: \"))\n",
    "# Enter the number of years\n",
    "Y = int(input(\"Enter the number of years: \"))\n",
    "# Enter the rate of interest\n",
    "R = int(input(\"Enter the rate of interest: \"))\n",
    "\n",
    "a = A * (1 + ((R/100) * Y))\n",
    "\n",
    "print(\"The Amount generated after simple interest added is:\", a)\n"
   ]
  },
  {
   "cell_type": "code",
   "execution_count": 2,
   "id": "fbb170ad",
   "metadata": {},
   "outputs": [
    {
     "name": "stdout",
     "output_type": "stream",
     "text": [
      "Enter the principal: 2345\n",
      "Enter the number of times in a year it's compounded: 123\n",
      "Enter the rate in decimals: 0.45\n",
      "Enter the number of years it's for: 123\n",
      "The Compound Interest is = {}  2.314605923522722e+27\n"
     ]
    }
   ],
   "source": [
    "#Compound Interest\n",
    "\n",
    "#Enter the amount being set aside (Principal)\n",
    "p = int(input(\"Enter the principal: \"))\n",
    "#Enter the number of times in a year it's compounded for\n",
    "n = int(input(\"Enter the number of times in a year it's compounded: \"))\n",
    "#Enter the rate\n",
    "r = float(input(\"Enter the rate in decimals: \"))\n",
    "#Enter the number of years it's meant for\n",
    "y = int(input(\"Enter the number of years it's for: \"))\n",
    "\n",
    "d = n*y\n",
    "ci = p * ((1 + (r / n)) ** d)\n",
    "print(\"The Compound Interest is = {} \", ci)\n"
   ]
  },
  {
   "cell_type": "code",
   "execution_count": 4,
   "id": "41ca18b3",
   "metadata": {},
   "outputs": [
    {
     "name": "stdout",
     "output_type": "stream",
     "text": [
      "Enter amount paid at consistent basis: 234\n",
      "Enter the rate in decimals: 0.006\n",
      "Enter the amount of time the payment is made in a year: 1234\n",
      "Enter the number of years this is for: 1234\n",
      "The amount for the annuity plan is:  78999402072.15485\n"
     ]
    }
   ],
   "source": [
    "#Annuity Plan\n",
    "PMT = int(input(\"Enter amount paid at consistent basis: \"))\n",
    "r = float(input(\"Enter the rate in decimals: \"))\n",
    "n = int(input(\"Enter the amount of time the payment is made in a year: \"))\n",
    "t = int(input(\"Enter the number of years this is for: \"))\n",
    "b = r / n\n",
    "a = PMT * ((((1 + b) ** (n*t)) - 1) / b)\n",
    "print(\"The amount for the annuity plan is: \", a)\n"
   ]
  },
  {
   "cell_type": "code",
   "execution_count": null,
   "id": "eaf8ffbe",
   "metadata": {},
   "outputs": [],
   "source": []
  }
 ],
 "metadata": {
  "kernelspec": {
   "display_name": "Python 3 (ipykernel)",
   "language": "python",
   "name": "python3"
  },
  "language_info": {
   "codemirror_mode": {
    "name": "ipython",
    "version": 3
   },
   "file_extension": ".py",
   "mimetype": "text/x-python",
   "name": "python",
   "nbconvert_exporter": "python",
   "pygments_lexer": "ipython3",
   "version": "3.10.9"
  }
 },
 "nbformat": 4,
 "nbformat_minor": 5
}
