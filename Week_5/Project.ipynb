{
 "cells": [
  {
   "cell_type": "code",
   "execution_count": 5,
   "id": "efa8c83e",
   "metadata": {},
   "outputs": [
    {
     "name": "stdout",
     "output_type": "stream",
     "text": [
      "Women\n",
      "╒═══════════╤═══════╤══════════╤═════════╕\n",
      "│ Name      │   Age │   Height │   Score │\n",
      "╞═══════════╪═══════╪══════════╪═════════╡\n",
      "│ Samantha  │    17 │      5.5 │      80 │\n",
      "├───────────┼───────┼──────────┼─────────┤\n",
      "│ Jada      │    16 │      6   │      85 │\n",
      "├───────────┼───────┼──────────┼─────────┤\n",
      "│ Jane      │    17 │      5.4 │      70 │\n",
      "├───────────┼───────┼──────────┼─────────┤\n",
      "│ Claire    │    18 │      5.9 │      60 │\n",
      "├───────────┼───────┼──────────┼─────────┤\n",
      "│ Elizabeth │    16 │      5.6 │      60 │\n",
      "├───────────┼───────┼──────────┼─────────┤\n",
      "│ Mary      │    18 │      5.5 │      66 │\n",
      "├───────────┼───────┼──────────┼─────────┤\n",
      "│ Susan     │    17 │      6.1 │      87 │\n",
      "├───────────┼───────┼──────────┼─────────┤\n",
      "│ Waje      │    20 │      6   │      95 │\n",
      "├───────────┼───────┼──────────┼─────────┤\n",
      "│ Taibat    │    19 │      5.7 │      50 │\n",
      "├───────────┼───────┼──────────┼─────────┤\n",
      "│ Lilian    │    17 │      5.5 │      49 │\n",
      "╘═══════════╧═══════╧══════════╧═════════╛\n"
     ]
    }
   ],
   "source": [
    "#create data\n",
    "from tabulate import tabulate\n",
    "print(\"Women\")\n",
    "data = [[\"Samantha\", 17, 5.5, 80], \n",
    "        [\"Jada\", 16, 6.0, 85], \n",
    "        [\"Jane\", 17, 5.4, 70], \n",
    "        [\"Claire\", 18, 5.9, 60],\n",
    "        [\"Elizabeth\", 16, 5.6, 60],\n",
    "        [\"Mary\", 18, 5.5, 66],\n",
    "        [\"Susan\", 17, 6.1, 87],\n",
    "        [\"Waje\", 20, 6.0, 95],\n",
    "        [\"Taibat\", 19, 5.7, 50],\n",
    "        [\"Lilian\", 17, 5.5, 49],\n",
    "       ]\n",
    "  \n",
    "#define header names\n",
    "col_names = [\"Name\", \"Age\", \"Height\", \"Score\"]\n",
    "  \n",
    "#display table\n",
    "print(tabulate(data, headers=col_names, tablefmt=\"fancy_grid\"))"
   ]
  },
  {
   "cell_type": "code",
   "execution_count": 6,
   "id": "6a34d7e8",
   "metadata": {},
   "outputs": [
    {
     "name": "stdout",
     "output_type": "stream",
     "text": [
      "Men\n",
      "╒═════════╤═══════╤══════════╤═════════╕\n",
      "│ Name    │   Age │   Height │   Score │\n",
      "╞═════════╪═══════╪══════════╪═════════╡\n",
      "│ Charles │    19 │      5.7 │      74 │\n",
      "├─────────┼───────┼──────────┼─────────┤\n",
      "│ Jude    │    16 │      5.9 │      87 │\n",
      "├─────────┼───────┼──────────┼─────────┤\n",
      "│ James   │    18 │      5.8 │      75 │\n",
      "├─────────┼───────┼──────────┼─────────┤\n",
      "│ Kelvin  │    17 │      6.1 │      68 │\n",
      "├─────────┼───────┼──────────┼─────────┤\n",
      "│ Biodun  │    20 │      5.9 │      66 │\n",
      "├─────────┼───────┼──────────┼─────────┤\n",
      "│ Wale    │    19 │      5.5 │      78 │\n",
      "├─────────┼───────┼──────────┼─────────┤\n",
      "│ Kunle   │    16 │      6.1 │      87 │\n",
      "├─────────┼───────┼──────────┼─────────┤\n",
      "│ Matthew │    18 │      5.4 │      98 │\n",
      "├─────────┼───────┼──────────┼─────────┤\n",
      "│ Tom     │    17 │      5.8 │      54 │\n",
      "├─────────┼───────┼──────────┼─────────┤\n",
      "│ Kayode  │    19 │      5.7 │      60 │\n",
      "╘═════════╧═══════╧══════════╧═════════╛\n"
     ]
    }
   ],
   "source": [
    "#create data\n",
    "from tabulate import tabulate\n",
    "print(\"Men\")\n",
    "data = [[\"Charles\", 19, 5.7, 74], \n",
    "        [\"Jude\", 16, 5.9, 87], \n",
    "        [\"James\", 18, 5.8, 75], \n",
    "        [\"Kelvin\", 17, 6.1, 68],\n",
    "        [\"Biodun\", 20, 5.9, 66],\n",
    "        [\"Wale\", 19, 5.5, 78],\n",
    "        [\"Kunle\", 16, 6.1, 87],\n",
    "        [\"Matthew\", 18, 5.4, 98],\n",
    "        [\"Tom\", 17, 5.8, 54],\n",
    "        [\"Kayode\", 19, 5.7, 60],\n",
    "       ]\n",
    "  \n",
    "#define header names\n",
    "col_names = [\"Name\", \"Age\", \"Height\", \"Score\"]\n",
    "  \n",
    "#display table\n",
    "print(tabulate(data, headers=col_names, tablefmt=\"fancy_grid\"))"
   ]
  },
  {
   "cell_type": "code",
   "execution_count": null,
   "id": "6972c1cf",
   "metadata": {},
   "outputs": [],
   "source": []
  }
 ],
 "metadata": {
  "kernelspec": {
   "display_name": "Python 3 (ipykernel)",
   "language": "python",
   "name": "python3"
  },
  "language_info": {
   "codemirror_mode": {
    "name": "ipython",
    "version": 3
   },
   "file_extension": ".py",
   "mimetype": "text/x-python",
   "name": "python",
   "nbconvert_exporter": "python",
   "pygments_lexer": "ipython3",
   "version": "3.10.9"
  }
 },
 "nbformat": 4,
 "nbformat_minor": 5
}
