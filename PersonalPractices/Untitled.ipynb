{
 "cells": [
  {
   "cell_type": "code",
   "execution_count": 1,
   "metadata": {},
   "outputs": [
    {
     "name": "stdout",
     "output_type": "stream",
     "text": [
      "Hello world\n"
     ]
    }
   ],
   "source": [
    "print(\"Hello world\")"
   ]
  },
  {
   "cell_type": "code",
   "execution_count": 3,
   "metadata": {},
   "outputs": [
    {
     "name": "stdout",
     "output_type": "stream",
     "text": [
      "Enter your name please: Abdulmalik\n",
      "Hello, Abdulmalik\n"
     ]
    }
   ],
   "source": [
    "name = input(\"Enter your name please: \")\n",
    "print(\"Hello,\",name)"
   ]
  },
  {
   "cell_type": "code",
   "execution_count": 4,
   "metadata": {},
   "outputs": [
    {
     "name": "stdout",
     "output_type": "stream",
     "text": [
      "25\n"
     ]
    }
   ],
   "source": [
    "age = 25\n",
    "print(age)"
   ]
  },
  {
   "cell_type": "code",
   "execution_count": 5,
   "metadata": {},
   "outputs": [
    {
     "name": "stdout",
     "output_type": "stream",
     "text": [
      "25 multiplied by four is 100\n"
     ]
    }
   ],
   "source": [
    "x = 25\n",
    "y = x * 4\n",
    "print(\"25 multiplied by four is\",y)"
   ]
  },
  {
   "cell_type": "code",
   "execution_count": 9,
   "metadata": {},
   "outputs": [
    {
     "name": "stdout",
     "output_type": "stream",
     "text": [
      "Abdulmalik\n"
     ]
    }
   ],
   "source": [
    "name = 'Abdulmalik'\n",
    "print(name)"
   ]
  },
  {
   "cell_type": "code",
   "execution_count": 1,
   "metadata": {},
   "outputs": [
    {
     "name": "stdout",
     "output_type": "stream",
     "text": [
      "Enter a value for apple: 5\n",
      "Enter a value for mango: 3\n",
      "Are the apples more than the mangoes?\n"
     ]
    },
    {
     "data": {
      "text/plain": [
       "True"
      ]
     },
     "execution_count": 1,
     "metadata": {},
     "output_type": "execute_result"
    }
   ],
   "source": [
    "apple = input(\"Enter a value for apple: \")\n",
    "mango = input(\"Enter a value for mango: \")\n",
    "print(\"Are the apples more than the mangoes?\")\n",
    "apple > mango"
   ]
  },
  {
   "cell_type": "code",
   "execution_count": 2,
   "metadata": {},
   "outputs": [
    {
     "data": {
      "text/plain": [
       "True"
      ]
     },
     "execution_count": 2,
     "metadata": {},
     "output_type": "execute_result"
    }
   ],
   "source": [
    "mango<apple"
   ]
  },
  {
   "cell_type": "code",
   "execution_count": 1,
   "metadata": {},
   "outputs": [
    {
     "name": "stdout",
     "output_type": "stream",
     "text": [
      "Hello guys\n",
      "Welcome to Python Programming\n",
      "Hope this will be fun!\n"
     ]
    }
   ],
   "source": [
    "print(\"Hello guys\")\n",
    "print(\"Welcome to Python Programming\")\n",
    "print(\"Hope this will be fun!\")"
   ]
  },
  {
   "cell_type": "code",
   "execution_count": 6,
   "metadata": {},
   "outputs": [
    {
     "name": "stdout",
     "output_type": "stream",
     "text": [
      "Enter any number of your choice: 56879\n",
      "This is a five or more digit number\n"
     ]
    }
   ],
   "source": [
    "num = int(input(\"Enter any number of your choice: \"))\n",
    "if 0 < num < 100:\n",
    "    print(\"This is a two digit number\")\n",
    "elif 99 < num < 1000:\n",
    "    print(\"This is a three digit number\")\n",
    "elif 999 < num < 10000:\n",
    "    print(\"This is a four digit number\")\n",
    "else:\n",
    "    print(\"This is a five or more digit number\")"
   ]
  },
  {
   "cell_type": "code",
   "execution_count": 8,
   "metadata": {},
   "outputs": [
    {
     "name": "stdout",
     "output_type": "stream",
     "text": [
      "Computer Science 100 Level Pan Atlantic University\n"
     ]
    }
   ],
   "source": [
    "#This is to practice concatonation\n",
    "course = \"Computer Science\"\n",
    "Level = \"100 Level\"\n",
    "University = \"Pan Atlantic University\"\n",
    "\n",
    "concat = course +\" \"+ Level +\" \"+ University\n",
    "print(concat)"
   ]
  },
  {
   "cell_type": "code",
   "execution_count": 14,
   "metadata": {},
   "outputs": [
    {
     "name": "stdout",
     "output_type": "stream",
     "text": [
      "Enter your name: Muhammed\n",
      "Your name is Muhammed\n"
     ]
    }
   ],
   "source": [
    "#This is to check if i can define my input as a string\n",
    "\n",
    "name = str(input(\"Enter your name: \"))\n",
    "print(f\"Your name is {name}\")"
   ]
  },
  {
   "cell_type": "code",
   "execution_count": 2,
   "metadata": {},
   "outputs": [
    {
     "name": "stdout",
     "output_type": "stream",
     "text": [
      "Enter the value for the principal being deposited: 50000\n",
      "Enter the value for the rate in decimal form e.g. 20% = 0.2: 0.1\n",
      "Enter the value for the number of years the principal is being deposited for: 5\n",
      "The simple interest for 50000 naira at a rate of 0.1 for 5 years is = 25000.0 naira \n"
     ]
    }
   ],
   "source": [
    "#This is a program to give the simple interest for a given amount of principal \n",
    "\n",
    "P = int(input(\"Enter the value for the principal being deposited: \"))\n",
    "R = float(input(\"Enter the value for the rate in decimal form e.g. 20% = 0.2: \"))\n",
    "T = int(input(\"Enter the value for the number of years the principal is being deposited for: \"))\n",
    "\n",
    "SI = P*R*T\n",
    "print(f\"The simple interest for {P} naira at a rate of {R} for {T} years is = {SI} naira \")"
   ]
  },
  {
   "cell_type": "code",
   "execution_count": 3,
   "metadata": {},
   "outputs": [
    {
     "name": "stdout",
     "output_type": "stream",
     "text": [
      "Enter the value for the principal being deposited: 50000\n",
      "Enter the value for the rate: 20\n",
      "Enter the value of times the principal is being compounded yearly: 5\n",
      "Enter the value of years this compound interest is for: 7\n",
      "The compound interest for 50000 naira for 7 years at a rate of 20% compounded 5 times a year is = 1.455191522836685e+29 naira\n"
     ]
    }
   ],
   "source": [
    "#This is a program to give the compound interest for a given amount of principal\n",
    "\n",
    "P = int(input(\"Enter the value for the principal being deposited: \"))\n",
    "R = int(input(\"Enter the value for the rate: \"))\n",
    "N = int(input(\"Enter the value of times the principal is being compounded yearly: \"))\n",
    "T = int(input(\"Enter the value of years this compound interest is for: \"))\n",
    "\n",
    "CI = P*(1 + (R/N))**(N*T)\n",
    "print(f\"The compound interest for {P} naira for {T} years at a rate of {R}% compounded {N} times a year is = {CI} naira\")\n"
   ]
  },
  {
   "cell_type": "code",
   "execution_count": 20,
   "metadata": {},
   "outputs": [
    {
     "name": "stdout",
     "output_type": "stream",
     "text": [
      "Enter your state of origin: Kwara\n",
      "Your state of origin is Kwara\n",
      "The third letter of your state of origin is  a\n",
      "The first and last letters of your state of origin is  K a\n"
     ]
    }
   ],
   "source": [
    "stateoforigin = str(input(\"Enter your state of origin: \"))\n",
    "print(f\"Your state of origin is {stateoforigin}\")\n",
    "print(\"The third letter of your state of origin is \",stateoforigin[2])\n",
    "print(\"The first and last letters of your state of origin is \",stateoforigin[0], stateoforigin[-1])"
   ]
  },
  {
   "cell_type": "code",
   "execution_count": 18,
   "metadata": {},
   "outputs": [
    {
     "name": "stdout",
     "output_type": "stream",
     "text": [
      "The price for Amala is 2500\n",
      "The price for Semovita is 1000\n",
      "['Ewedu', 'Rice', 'Semovita', 'Bread']\n",
      "[2500, 3500, 1500, 1000, 5000, 2500, 3500, 1500, 1000, 5000, 2500, 3500, 1500, 1000, 5000]\n",
      "['Amala', 'Ewedu', 'Rice', 'Semovita', 'Bread']\n"
     ]
    }
   ],
   "source": [
    "Foodlist = [\"Amala\", \"Ewedu\", \"Rice\", \"Semovita\", \"Bread\"]\n",
    "Prices = [2500, 3500, 1500, 1000, 5000]\n",
    "\n",
    "print(\"The price for Amala is\",Prices[0])\n",
    "print(f\"The price for {Foodlist[3]} is {Prices[3]}\" )\n",
    "print(Foodlist[1:5])\n",
    "print(Prices * 3)\n",
    "print(Foodlist)"
   ]
  },
  {
   "cell_type": "code",
   "execution_count": null,
   "metadata": {},
   "outputs": [],
   "source": []
  }
 ],
 "metadata": {
  "kernelspec": {
   "display_name": "Python 3",
   "language": "python",
   "name": "python3"
  },
  "language_info": {
   "codemirror_mode": {
    "name": "ipython",
    "version": 3
   },
   "file_extension": ".py",
   "mimetype": "text/x-python",
   "name": "python",
   "nbconvert_exporter": "python",
   "pygments_lexer": "ipython3",
   "version": "3.8.3"
  }
 },
 "nbformat": 4,
 "nbformat_minor": 4
}
